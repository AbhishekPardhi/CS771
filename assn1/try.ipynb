{
 "cells": [
  {
   "cell_type": "code",
   "execution_count": 1,
   "metadata": {},
   "outputs": [],
   "source": [
    "import numpy as np\n",
    "from scipy.linalg import khatri_rao\n",
    "from submit import get_renamed_labels, get_features\n",
    "import time as tm\n",
    "import matplotlib.pyplot as plt"
   ]
  },
  {
   "cell_type": "code",
   "execution_count": 2,
   "metadata": {},
   "outputs": [
    {
     "data": {
      "text/plain": [
       "((10000, 8), (10000,))"
      ]
     },
     "execution_count": 2,
     "metadata": {},
     "output_type": "execute_result"
    }
   ],
   "source": [
    "train_data = np.loadtxt('train.dat')\n",
    "X_train = train_data[:,:-1]\n",
    "y_train = train_data[:,-1]\n",
    "\n",
    "test_data = np.loadtxt('test.dat')\n",
    "X_test = test_data[:,:-1]\n",
    "y_test = test_data[:,-1]\n",
    "\n",
    "X_train.shape, y_train.shape"
   ]
  },
  {
   "cell_type": "code",
   "execution_count": 3,
   "metadata": {},
   "outputs": [
    {
     "data": {
      "text/plain": [
       "((10000, 729), (20000,))"
      ]
     },
     "execution_count": 3,
     "metadata": {},
     "output_type": "execute_result"
    }
   ],
   "source": [
    "X_train = get_features(X_train)\n",
    "y_train = get_renamed_labels(y_train)\n",
    "\n",
    "X_test = get_features(X_test)\n",
    "y_test = get_renamed_labels(y_test)\n",
    "\n",
    "X_train.shape, y_test.shape"
   ]
  },
  {
   "cell_type": "code",
   "execution_count": 5,
   "metadata": {},
   "outputs": [],
   "source": [
    "y_train = y_train.astype('int')"
   ]
  },
  {
   "cell_type": "code",
   "execution_count": 6,
   "metadata": {},
   "outputs": [],
   "source": [
    "def stepLengthGenerator( mode, eta ):\n",
    "\tif mode == \"constant\":\n",
    "\t\treturn lambda t: eta\n",
    "\telif mode == \"linear\":\n",
    "\t\treturn lambda t: eta/(t+1)\n",
    "\telif mode == \"quadratic\":\n",
    "\t\treturn lambda t: eta/np.sqrt(t+1)\n",
    "\n",
    "class SVM:\n",
    "    def __init__(self, X, y, C):\n",
    "        self.X = X.copy()\n",
    "        self.y = y.copy()\n",
    "        self.C = C\n",
    "        self.n = X.shape[0]\n",
    "        self.d = X.shape[1]\n",
    "        self.__intialize_params__()\n",
    "\n",
    "    def __intialize_params__(self):\n",
    "        X = self.X\n",
    "        y = self.y\n",
    "\n",
    "\t\t# param intiliaziation for SDCM\n",
    "\t\t\n",
    "        initDual = self.C * np.ones((self.n))\n",
    "        self.normSq = np.square( np.linalg.norm( X, axis = 1 ) ) + 1\n",
    "        self.w_SDCM = X.T.dot( np.multiply( initDual, y ) )\n",
    "        self.alpha = initDual\n",
    "\n",
    "\t\t# param init for GD\n",
    "        self.theta = np.zeros((self.d))\n",
    "    \n",
    "    def predict(self, X):\n",
    "\n",
    "        y_new = X.dot(self.w_SDCM) \n",
    "        return y_new\n",
    "\n",
    "    def doCoordOptCSVMDual(self, i ):\n",
    "        x = self.X[i,:]\n",
    "        y = self.y\n",
    "        w_SDCM = self.w_SDCM\n",
    "        C = self.C\n",
    "\n",
    "        # Find the unconstrained new optimal value of alpha_i\n",
    "        # It takes only O(d) time to do so because of our clever book keeping\n",
    "        newAlphai = (1 - y[i] * x.dot(w_SDCM) ) / self.normSq[i]\n",
    "        \n",
    "        # Make sure that the constraints are satisfied. This takes only O(1) time\n",
    "        if newAlphai > C:\n",
    "            newAlphai = C\n",
    "        if newAlphai < 0:\n",
    "            newAlphai = 0\n",
    "\n",
    "        # Update the primal model vector and bias values to ensure bookkeeping is proper\n",
    "        # Doing these bookkeeping updates also takes only O(d) time\n",
    "        self.w_SDCM = w_SDCM + (newAlphai - self.alpha[i]) * y[i] * x\n",
    "        \n",
    "        return newAlphai\n",
    "\n",
    "    def getCSVMPrimalDualObjVals( self ):\n",
    "        w_SDCM = self.w_SDCM\n",
    "        X = self.X\n",
    "        y = self.y\n",
    "        C = self.C\n",
    "\n",
    "        hingeLoss = np.maximum( 1 - np.multiply( (X.dot( w_SDCM )), y ), 0 )\n",
    "        objPrimal = 0.5 * w_SDCM.dot( w_SDCM ) + C * np.sum(hingeLoss)\n",
    "        # Recall that b is supposed to be treated as the last coordinate of w\n",
    "        objDual = np.sum( self.alpha ) - 0.5 * np.square( np.linalg.norm( w_SDCM ) )\n",
    "        \n",
    "        return np.array( [objPrimal, objDual] )\n",
    "\n",
    "    def getRandpermCoord( self, state ):\n",
    "        idx = state[0]\n",
    "        perm = state[1]\n",
    "        d = len( perm )\n",
    "        if idx >= d - 1 or idx < 0:\n",
    "            idx = 0\n",
    "            perm = np.random.permutation( d )\n",
    "        else:\n",
    "            idx += 1\n",
    "        state = (idx, perm)\n",
    "        curr = perm[idx]\n",
    "        return (curr, state)\n",
    "    \n",
    "    def doSDCM(self, horizon = 10 ):\n",
    "        objValSeries = []\n",
    "        timeSeries = []\n",
    "        totTime = 0\n",
    "        d = self.d\n",
    "        state = (-1,np.random.permutation( d ))\n",
    "        # Initialize model as well as some bookkeeping variables\n",
    "        \n",
    "        for it in range( horizon ):\n",
    "            # Start a stopwatch to calculate how much time we are spending\n",
    "            tic = tm.perf_counter()\n",
    "            \n",
    "            # Get the next coordinate to update and update that coordinate\n",
    "            (i, state) = self.getRandpermCoord( state )\n",
    "            (self.alpha)[i] = self.doCoordOptCSVMDual(  i)\n",
    "\n",
    "            toc = tm.perf_counter()\n",
    "            totTime = totTime + (toc - tic)\n",
    "            # print('\\r Accuracy:', self.eval(self.X, self.y), end='')\n",
    "            objValSeries.append( self.getCSVMPrimalDualObjVals() )\n",
    "            timeSeries.append( totTime )\n",
    "            \n",
    "        return (objValSeries, timeSeries)\n",
    "\n",
    "    def getCSVMGrad(self, theta ):\n",
    "        y = self.y\n",
    "        C = self.C\n",
    "        X = self.X\n",
    "\n",
    "        w = theta\n",
    "        discriminant = np.multiply( (X.dot( w )), y )\n",
    "        g = np.zeros( (y.size,) )\n",
    "        g[discriminant < 1] = -1\n",
    "        # delb = C * g.dot( y )\n",
    "        delw = w + C * (X.T * g).dot( y )\n",
    "        return delw\n",
    "\n",
    "    def getCSVMObjVal(self,  theta ):\n",
    "        C = self.C\n",
    "        X = self.X\n",
    "        y = self.y\n",
    "\n",
    "        w = theta\n",
    "        hingeLoss = np.maximum( 1 - np.multiply( (X.dot( w )), y ), 0 )\n",
    "        return 0.5 * w.dot( w ) + C * np.sum( hingeLoss )\n",
    "    \n",
    "    def clean_up(self, cumulative, doModelAveraging, it ):\n",
    "        final = 0\n",
    "        if doModelAveraging:\n",
    "            final = cumulative / (it + 1)\n",
    "        else:\n",
    "            final = cumulative\n",
    "        \n",
    "        self.theta = final\n",
    "        self.w_SDCM = final\n",
    "\t\n",
    "    def doGD( self, stepFunc , doModelAveraging, spacing, timeout):\n",
    "        objValSeries = []\n",
    "        timeSeries = []\n",
    "        totTime = 0\n",
    "        theta = self.theta\n",
    "        cumulative = self.theta\n",
    "        it = 1\n",
    "        \n",
    "        while True:\n",
    "            # Start a stopwatch to calculate how much time we are spending\n",
    "            tic = tm.perf_counter()\n",
    "            delta = self.getCSVMGrad( theta )\n",
    "            theta = theta - stepFunc( it + 1 ) * delta\n",
    "            # If we are going to do model averaging, just keep adding the models\n",
    "            if doModelAveraging:\n",
    "                cumulative = cumulative + theta\n",
    "            else:\n",
    "                cumulative = theta\n",
    "            # All calculations done -- stop the stopwatch\n",
    "            toc = tm.perf_counter()\n",
    "            totTime = totTime + (toc - tic)\n",
    "            # If model averaging is being done, need to calculate current objective value a bit differently\n",
    "            if doModelAveraging:\n",
    "                objValSeries.append( self.getCSVMObjVal( cumulative/(it+2) ) )\n",
    "            else:\n",
    "                objValSeries.append( self.getCSVMObjVal( cumulative ) )\n",
    "\n",
    "            timeSeries.append( totTime )\n",
    "            \n",
    "            if it%spacing ==0 and totTime > timeout:\n",
    "                self.clean_up(cumulative, doModelAveraging, it)\n",
    "                return (objValSeries, timeSeries)\n",
    "            it+=1\n",
    "\n",
    "\n",
    "    def eval(self, X_t, y_t):\n",
    "        y_t_pred = self.predict( X_t )\n",
    "        y_t_pred = np.where( y_t_pred > 0, 1, -1 )\n",
    "        acc = np.average( y_t == y_t_pred )\n",
    "        return acc\n",
    "\n"
   ]
  },
  {
   "cell_type": "code",
   "execution_count": 7,
   "metadata": {},
   "outputs": [],
   "source": [
    "\n",
    "svm_classifier = SVM(X_train, y_train, C=5.0)"
   ]
  },
  {
   "cell_type": "code",
   "execution_count": 8,
   "metadata": {},
   "outputs": [],
   "source": [
    "C = 1\n",
    "eta = 1\n",
    "hist_gd = svm_classifier.doGD(stepLengthGenerator('linear', eta), doModelAveraging=True, spacing = 10, timeout=5) "
   ]
  },
  {
   "cell_type": "code",
   "execution_count": 9,
   "metadata": {},
   "outputs": [],
   "source": [
    "# history = svm_classifier.doSDCM(horizon=10000)"
   ]
  },
  {
   "cell_type": "code",
   "execution_count": 10,
   "metadata": {},
   "outputs": [
    {
     "data": {
      "text/plain": [
       "0.9367"
      ]
     },
     "execution_count": 10,
     "metadata": {},
     "output_type": "execute_result"
    }
   ],
   "source": [
    "svm_classifier.eval(X_test, y_test)"
   ]
  },
  {
   "cell_type": "code",
   "execution_count": 11,
   "metadata": {},
   "outputs": [
    {
     "data": {
      "image/png": "[encoded data removed]",
      "text/plain": [
       "<Figure size 432x288 with 1 Axes>"
      ]
     },
     "metadata": {
      "needs_background": "light"
     },
     "output_type": "display_data"
    }
   ],
   "source": [
    "# fig1 = pd.getFigure( 7, 7 )\n",
    "# plt.figure( fig1.number )\n",
    "obj_SDCM = hist_gd[0]\n",
    "time_SDCM = hist_gd[1]\n",
    "primal_SDCM = [obj_SDCM[i] for i in range(len(obj_SDCM))]\n",
    "# dual_SDCM = [obj_SDCM[i] for i in range(len(obj_SDCM))]\n",
    "plt.plot( time_SDCM, primal_SDCM, color = 'b', linestyle = '-', label = \"SDCM Primal Obj Val\" )\n",
    "# plt.plot( time_SDCM, dual_SDCM, color = 'b', linestyle = ':', label = \"SDCM Dual Obj Val\" )\n",
    "plt.legend()\n",
    "plt.xlabel( \"Elapsed time (sec)\" )\n",
    "plt.ylabel( \"C-SVM Objective value\" )\n",
    "\n",
    "# plt.ylim( np.median( dual_SDCM ), np.median( primal_SDCM ) )\n",
    "\n",
    "plt.show()"
   ]
  },
  {
   "cell_type": "code",
   "execution_count": 18,
   "metadata": {},
   "outputs": [],
   "source": [
    "def eval(theta, X_t, y_t):\n",
    "        y_t_pred = X_t.dot(theta)\n",
    "        y_t_pred = np.where( y_t_pred > 0, 1, -1 )\n",
    "        acc = np.average( y_t == y_t_pred )\n",
    "        return acc\n",
    "\n",
    "def stepLengthGenerator( mode, eta ):\n",
    "\tif mode == \"constant\":\n",
    "\t\treturn lambda t: eta\n",
    "\telif mode == \"linear\":\n",
    "\t\treturn lambda t: eta/(t+1)\n",
    "\telif mode == \"quadratic\":\n",
    "\t\treturn lambda t: eta/np.sqrt(t+1)\n",
    "\n",
    "def solver( X, y, timeout, spacing, X_test, y_test ):\n",
    "\n",
    "\t(n, d) = X.shape\n",
    "\tt = 0\n",
    "\ttotTime = 0\n",
    "\tW = []\n",
    "\tB = 0\n",
    "\ttic = tm.perf_counter()\n",
    "\n",
    "\ttheta = np.zeros(d)\n",
    "\t\n",
    "\tC=5.0\n",
    "\t\n",
    "\t\n",
    "\tdef getCSVMObjVal( theta ):\n",
    "\t\tw = theta\n",
    "\t\thingeLoss = np.maximum( 0, 1 - y * ( np.dot( X, w ) ) )\n",
    "\t\treturn 0.5 * np.dot( w, w ) + C * np.sum( hingeLoss )\n",
    "\n",
    "\tdef getCSVMGrad( theta ):\n",
    "\t\tw = theta\t\n",
    "\t\tdiscriminant = y * ( np.dot( X, w ) )\n",
    "\t\tg = np.zeros( (y.size,))\n",
    "\t\tg[discriminant < 1] = -1\n",
    "\t\tdelw = w + C * np.dot( X.T * g, y )\n",
    "\t\treturn delw\n",
    "\n",
    "\t# def clean_up(cumulative, doModelAveraging, it):\n",
    "\t# \tfinal = 0\n",
    "\t# \tif doModelAveraging:\n",
    "\t# \t\tfinal = cumulative/(it+1)\n",
    "\t# \telse:\n",
    "\t# \t\tfinal = cumulative\n",
    "\t# \ttheta=final\n",
    "\t\n",
    "\tobjValSeries = []\n",
    "\ttimeSeries = []\n",
    "\tcumulative = theta\n",
    "\tacc = []\n",
    "\tupdater = stepLengthGenerator( \"linear\", 1 )\n",
    "\twhile True:\n",
    "\t\tt = t + 1\n",
    "\t\tif t % spacing == 0:\n",
    "\t\t\tacc_new = eval(theta, X_test, y_test)\n",
    "\t\t\tacc.append(acc_new)\n",
    "\t\t\ttoc = tm.perf_counter()\n",
    "\t\t\ttotTime = totTime + (toc - tic)\n",
    "\t\t\tif totTime > timeout:\n",
    "\t\t\t\tW = theta\n",
    "\t\t\t\tB = 0\n",
    "\t\t\t\treturn ( W.reshape( ( W.size, ) ), B, totTime, acc )\t\t\t# Reshape W as a vector\n",
    "\t\t\telse:\n",
    "\t\t\t\ttic = tm.perf_counter()\n",
    "\t\tdelta = getCSVMGrad( theta )\n",
    "\t\ttheta = theta - updater( t + 1 ) * delta\n",
    "\t\tcumulative = cumulative + theta\n",
    "\t\tobjValSeries.append( getCSVMObjVal( cumulative/(t+2) ) )\n",
    "\t\ttimeSeries.append( totTime )\n",
    "\n",
    "\t\n",
    "\t\t\n",
    "\treturn ( W.reshape( ( W.size, ) ), B, totTime )"
   ]
  },
  {
   "cell_type": "code",
   "execution_count": 24,
   "metadata": {},
   "outputs": [],
   "source": [
    "history = solver(X_train, y_train, 5, 1, X_test, y_test)"
   ]
  },
  {
   "cell_type": "code",
   "execution_count": 17,
   "metadata": {},
   "outputs": [
    {
     "name": "stdout",
     "output_type": "stream",
     "text": [
      "1.0\n"
     ]
    }
   ],
   "source": [
    "theta = history[0]\n",
    "acc = eval(theta, X_test, y_test)\n",
    "print(acc)"
   ]
  },
  {
   "cell_type": "code",
   "execution_count": 25,
   "metadata": {},
   "outputs": [
    {
     "data": {
      "text/plain": [
       "[<matplotlib.lines.Line2D at 0x7fa3ea081d20>]"
      ]
     },
     "execution_count": 25,
     "metadata": {},
     "output_type": "execute_result"
    },
    {
     "data": {
      "image/png": "[encoded data removed]",
      "text/plain": [
       "<Figure size 640x480 with 1 Axes>"
      ]
     },
     "metadata": {},
     "output_type": "display_data"
    }
   ],
   "source": [
    "plt.plot(np.linspace(0,history[2], len(history[3])), history[3])"
   ]
  },
  {
   "cell_type": "code",
   "execution_count": null,
   "metadata": {},
   "outputs": [],
   "source": []
  }
 ],
 "metadata": {
  "kernelspec": {
   "display_name": "Python 3.10.4 ('env': venv)",
   "language": "python",
   "name": "python3"
  },
  "language_info": {
   "codemirror_mode": {
    "name": "ipython",
    "version": 3
   },
   "file_extension": ".py",
   "mimetype": "text/x-python",
   "name": "python",
   "nbconvert_exporter": "python",
   "pygments_lexer": "ipython3",
   "version": "3.10.4"
  },
  "orig_nbformat": 4,
  "vscode": {
   "interpreter": {
    "hash": "66716570aa410b50b9b588cc599fa66afe59fee252f3c626a12b92f202e6e765"
   }
  }
 },
 "nbformat": 4,
 "nbformat_minor": 2
}
