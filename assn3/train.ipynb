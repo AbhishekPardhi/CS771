{
 "cells": [
  {
   "cell_type": "code",
   "execution_count": 7,
   "metadata": {},
   "outputs": [],
   "source": [
    "import cv2\n",
    "import numpy as np\n",
    "from keras import layers, models, regularizers\n",
    "import os\n",
    "from sklearn.model_selection import train_test_split"
   ]
  },
  {
   "cell_type": "code",
   "execution_count": 5,
   "metadata": {},
   "outputs": [
    {
     "data": {
      "text/plain": [
       "{'0': 'ALPHA',\n",
       " '1': 'BETA',\n",
       " '2': 'CHI',\n",
       " '3': 'DELTA',\n",
       " '4': 'EPSILON',\n",
       " '5': 'ETA',\n",
       " '6': 'GAMMA',\n",
       " '7': 'IOTA',\n",
       " '8': 'KAPPA',\n",
       " '9': 'LAMDA',\n",
       " '10': 'MU',\n",
       " '11': 'NU',\n",
       " '12': 'OMEGA',\n",
       " '13': 'OMICRON',\n",
       " '14': 'PHI',\n",
       " '15': 'PI',\n",
       " '16': 'PSI',\n",
       " '17': 'RHO',\n",
       " '18': 'SIGMA',\n",
       " '19': 'TAU',\n",
       " '20': 'THETA',\n",
       " '21': 'UPSILON',\n",
       " '22': 'XI',\n",
       " '23': 'ZETA'}"
      ]
     },
     "execution_count": 5,
     "metadata": {},
     "output_type": "execute_result"
    }
   ],
   "source": [
    "train_path = 'prc_train'\n",
    "i = 0\n",
    "label_map = {}\n",
    "allimgs = os.listdir(train_path)\n",
    "allimgs.sort()\n",
    "\n",
    "data = []\n",
    "out = []\n",
    "\n",
    "for label in allimgs:\n",
    "    label_map[str(i)] = label\n",
    "    i+=1\n",
    "    for img in os.listdir(os.path.join(train_path, label)):\n",
    "        data.append(cv2.imread(os.path.join(train_path, label, img)))\n",
    "        out.append(i)\n",
    "\n",
    "label_map\n"
   ]
  },
  {
   "cell_type": "code",
   "execution_count": 10,
   "metadata": {},
   "outputs": [
    {
     "data": {
      "text/plain": [
       "((4845, 128, 64, 3), (855, 128, 64, 3), (4845,), (855,))"
      ]
     },
     "execution_count": 10,
     "metadata": {},
     "output_type": "execute_result"
    }
   ],
   "source": [
    "# split into train and test\n",
    "X_train, X_test, y_train, y_test = train_test_split(np.array(data), np.array(out), test_size=0.15, random_state=42)\n",
    "X_train.shape, X_test.shape, y_train.shape, y_test.shape"
   ]
  },
  {
   "cell_type": "code",
   "execution_count": null,
   "metadata": {},
   "outputs": [],
   "source": []
  }
 ],
 "metadata": {
  "kernelspec": {
   "display_name": "Python 3.10.6 ('env': venv)",
   "language": "python",
   "name": "python3"
  },
  "language_info": {
   "codemirror_mode": {
    "name": "ipython",
    "version": 3
   },
   "file_extension": ".py",
   "mimetype": "text/x-python",
   "name": "python",
   "nbconvert_exporter": "python",
   "pygments_lexer": "ipython3",
   "version": "3.10.6"
  },
  "orig_nbformat": 4,
  "vscode": {
   "interpreter": {
    "hash": "66716570aa410b50b9b588cc599fa66afe59fee252f3c626a12b92f202e6e765"
   }
  }
 },
 "nbformat": 4,
 "nbformat_minor": 2
}
